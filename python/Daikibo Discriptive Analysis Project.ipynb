{
 "cells": [
  {
   "cell_type": "markdown",
   "id": "cccf0853",
   "metadata": {},
   "source": [
    "# Project: Descriptive analysis of Daikibo Factory Performance"
   ]
  },
  {
   "cell_type": "code",
   "execution_count": 1,
   "id": "df6a4e05",
   "metadata": {},
   "outputs": [],
   "source": [
    "# importing necessary packages\n",
    "import pandas as pd\n",
    "import numpy as np\n",
    "import matplotlib.pyplot as plt\n",
    "import seaborn as sns"
   ]
  },
  {
   "cell_type": "code",
   "execution_count": 2,
   "id": "92a83f0c",
   "metadata": {},
   "outputs": [],
   "source": [
    "# setting pandas settings\n",
    "pd.options.display.float_format='{:,.2f}'.format\n",
    "pd.options.display.max_columns = 20"
   ]
  },
  {
   "cell_type": "code",
   "execution_count": 3,
   "id": "774dc5dd",
   "metadata": {},
   "outputs": [
    {
     "data": {
      "text/html": [
       "<div>\n",
       "<style scoped>\n",
       "    .dataframe tbody tr th:only-of-type {\n",
       "        vertical-align: middle;\n",
       "    }\n",
       "\n",
       "    .dataframe tbody tr th {\n",
       "        vertical-align: top;\n",
       "    }\n",
       "\n",
       "    .dataframe thead th {\n",
       "        text-align: right;\n",
       "    }\n",
       "</style>\n",
       "<table border=\"1\" class=\"dataframe\">\n",
       "  <thead>\n",
       "    <tr style=\"text-align: right;\">\n",
       "      <th></th>\n",
       "      <th>deviceID</th>\n",
       "      <th>deviceType</th>\n",
       "      <th>timestamp</th>\n",
       "      <th>location</th>\n",
       "      <th>data</th>\n",
       "    </tr>\n",
       "  </thead>\n",
       "  <tbody>\n",
       "    <tr>\n",
       "      <th>0</th>\n",
       "      <td>19ff3161-2b3a-40a3-8604-bdc6532d0dab</td>\n",
       "      <td>CNC</td>\n",
       "      <td>2021-04-30 21:00:00</td>\n",
       "      <td>{'country': 'japan', 'city': 'tokyo', 'area': ...</td>\n",
       "      <td>{'status': 'healthy', 'temperature': 27}</td>\n",
       "    </tr>\n",
       "    <tr>\n",
       "      <th>1</th>\n",
       "      <td>19ff3161-2b3a-40a3-8604-bdc6532d0dab</td>\n",
       "      <td>CNC</td>\n",
       "      <td>2021-04-30 21:10:00</td>\n",
       "      <td>{'country': 'japan', 'city': 'tokyo', 'area': ...</td>\n",
       "      <td>{'status': 'healthy', 'temperature': 27}</td>\n",
       "    </tr>\n",
       "    <tr>\n",
       "      <th>2</th>\n",
       "      <td>19ff3161-2b3a-40a3-8604-bdc6532d0dab</td>\n",
       "      <td>CNC</td>\n",
       "      <td>2021-04-30 21:20:00</td>\n",
       "      <td>{'country': 'japan', 'city': 'tokyo', 'area': ...</td>\n",
       "      <td>{'status': 'healthy', 'temperature': 26}</td>\n",
       "    </tr>\n",
       "    <tr>\n",
       "      <th>3</th>\n",
       "      <td>19ff3161-2b3a-40a3-8604-bdc6532d0dab</td>\n",
       "      <td>CNC</td>\n",
       "      <td>2021-04-30 21:30:00</td>\n",
       "      <td>{'country': 'japan', 'city': 'tokyo', 'area': ...</td>\n",
       "      <td>{'status': 'healthy', 'temperature': 24}</td>\n",
       "    </tr>\n",
       "    <tr>\n",
       "      <th>4</th>\n",
       "      <td>19ff3161-2b3a-40a3-8604-bdc6532d0dab</td>\n",
       "      <td>CNC</td>\n",
       "      <td>2021-04-30 21:40:00</td>\n",
       "      <td>{'country': 'japan', 'city': 'tokyo', 'area': ...</td>\n",
       "      <td>{'status': 'healthy', 'temperature': 27}</td>\n",
       "    </tr>\n",
       "  </tbody>\n",
       "</table>\n",
       "</div>"
      ],
      "text/plain": [
       "                               deviceID deviceType           timestamp  \\\n",
       "0  19ff3161-2b3a-40a3-8604-bdc6532d0dab        CNC 2021-04-30 21:00:00   \n",
       "1  19ff3161-2b3a-40a3-8604-bdc6532d0dab        CNC 2021-04-30 21:10:00   \n",
       "2  19ff3161-2b3a-40a3-8604-bdc6532d0dab        CNC 2021-04-30 21:20:00   \n",
       "3  19ff3161-2b3a-40a3-8604-bdc6532d0dab        CNC 2021-04-30 21:30:00   \n",
       "4  19ff3161-2b3a-40a3-8604-bdc6532d0dab        CNC 2021-04-30 21:40:00   \n",
       "\n",
       "                                            location  \\\n",
       "0  {'country': 'japan', 'city': 'tokyo', 'area': ...   \n",
       "1  {'country': 'japan', 'city': 'tokyo', 'area': ...   \n",
       "2  {'country': 'japan', 'city': 'tokyo', 'area': ...   \n",
       "3  {'country': 'japan', 'city': 'tokyo', 'area': ...   \n",
       "4  {'country': 'japan', 'city': 'tokyo', 'area': ...   \n",
       "\n",
       "                                       data  \n",
       "0  {'status': 'healthy', 'temperature': 27}  \n",
       "1  {'status': 'healthy', 'temperature': 27}  \n",
       "2  {'status': 'healthy', 'temperature': 26}  \n",
       "3  {'status': 'healthy', 'temperature': 24}  \n",
       "4  {'status': 'healthy', 'temperature': 27}  "
      ]
     },
     "execution_count": 3,
     "metadata": {},
     "output_type": "execute_result"
    }
   ],
   "source": [
    "# loading the data\n",
    "daikibo_telemetry_data = pd.read_json('daikibo-telemetry-data.json')\n",
    "#viewing \n",
    "daikibo_telemetry_data.head()"
   ]
  },
  {
   "cell_type": "code",
   "execution_count": 4,
   "id": "63bc4739",
   "metadata": {},
   "outputs": [],
   "source": [
    "country = []\n",
    "city = []\n",
    "area=[]\n",
    "factory=[]\n",
    "section =[]\n",
    "status = []\n",
    "temp= []"
   ]
  },
  {
   "cell_type": "code",
   "execution_count": 5,
   "id": "2cacfaa1",
   "metadata": {},
   "outputs": [],
   "source": [
    "# seperating location data into columns\n",
    "for location in daikibo_telemetry_data['location']:\n",
    "    country.append(location['country'])\n",
    "    city.append(location['city'])\n",
    "    area.append(location['area'])\n",
    "    factory.append(location['factory'])\n",
    "    section.append(location['section'])\n",
    "# seperating data column into multiple columns\n",
    "for data in daikibo_telemetry_data['data']:\n",
    "    status.append(data['status'])\n",
    "    temp.append(data['temperature'])\n"
   ]
  },
  {
   "cell_type": "code",
   "execution_count": 6,
   "id": "260b34d6",
   "metadata": {},
   "outputs": [],
   "source": [
    "# allocating the location and data information to new columns\n",
    "daikibo_telemetry_data['country'] = country\n",
    "daikibo_telemetry_data['city'] = city\n",
    "daikibo_telemetry_data['area'] = area\n",
    "daikibo_telemetry_data['factory'] = factory\n",
    "daikibo_telemetry_data['section'] = section\n",
    "daikibo_telemetry_data['status'] = status\n",
    "daikibo_telemetry_data['temp'] =temp"
   ]
  },
  {
   "cell_type": "code",
   "execution_count": 7,
   "id": "589afa7a",
   "metadata": {},
   "outputs": [],
   "source": [
    "# droping deviceID,location and data columns\n",
    "daikibo_telemetry_data = daikibo_telemetry_data.drop(['deviceID','location', 'data'], axis=1)\n"
   ]
  },
  {
   "cell_type": "code",
   "execution_count": 8,
   "id": "fde895c5",
   "metadata": {},
   "outputs": [
    {
     "data": {
      "text/html": [
       "<div>\n",
       "<style scoped>\n",
       "    .dataframe tbody tr th:only-of-type {\n",
       "        vertical-align: middle;\n",
       "    }\n",
       "\n",
       "    .dataframe tbody tr th {\n",
       "        vertical-align: top;\n",
       "    }\n",
       "\n",
       "    .dataframe thead th {\n",
       "        text-align: right;\n",
       "    }\n",
       "</style>\n",
       "<table border=\"1\" class=\"dataframe\">\n",
       "  <thead>\n",
       "    <tr style=\"text-align: right;\">\n",
       "      <th></th>\n",
       "      <th>deviceType</th>\n",
       "      <th>timestamp</th>\n",
       "      <th>country</th>\n",
       "      <th>city</th>\n",
       "      <th>area</th>\n",
       "      <th>factory</th>\n",
       "      <th>section</th>\n",
       "      <th>status</th>\n",
       "      <th>temp</th>\n",
       "    </tr>\n",
       "  </thead>\n",
       "  <tbody>\n",
       "    <tr>\n",
       "      <th>0</th>\n",
       "      <td>CNC</td>\n",
       "      <td>2021-04-30 21:00:00</td>\n",
       "      <td>japan</td>\n",
       "      <td>tokyo</td>\n",
       "      <td>keiyō-industrial-zone</td>\n",
       "      <td>daikibo-factory-meiyo</td>\n",
       "      <td>section-1</td>\n",
       "      <td>healthy</td>\n",
       "      <td>27</td>\n",
       "    </tr>\n",
       "    <tr>\n",
       "      <th>1</th>\n",
       "      <td>CNC</td>\n",
       "      <td>2021-04-30 21:10:00</td>\n",
       "      <td>japan</td>\n",
       "      <td>tokyo</td>\n",
       "      <td>keiyō-industrial-zone</td>\n",
       "      <td>daikibo-factory-meiyo</td>\n",
       "      <td>section-1</td>\n",
       "      <td>healthy</td>\n",
       "      <td>27</td>\n",
       "    </tr>\n",
       "    <tr>\n",
       "      <th>2</th>\n",
       "      <td>CNC</td>\n",
       "      <td>2021-04-30 21:20:00</td>\n",
       "      <td>japan</td>\n",
       "      <td>tokyo</td>\n",
       "      <td>keiyō-industrial-zone</td>\n",
       "      <td>daikibo-factory-meiyo</td>\n",
       "      <td>section-1</td>\n",
       "      <td>healthy</td>\n",
       "      <td>26</td>\n",
       "    </tr>\n",
       "    <tr>\n",
       "      <th>3</th>\n",
       "      <td>CNC</td>\n",
       "      <td>2021-04-30 21:30:00</td>\n",
       "      <td>japan</td>\n",
       "      <td>tokyo</td>\n",
       "      <td>keiyō-industrial-zone</td>\n",
       "      <td>daikibo-factory-meiyo</td>\n",
       "      <td>section-1</td>\n",
       "      <td>healthy</td>\n",
       "      <td>24</td>\n",
       "    </tr>\n",
       "    <tr>\n",
       "      <th>4</th>\n",
       "      <td>CNC</td>\n",
       "      <td>2021-04-30 21:40:00</td>\n",
       "      <td>japan</td>\n",
       "      <td>tokyo</td>\n",
       "      <td>keiyō-industrial-zone</td>\n",
       "      <td>daikibo-factory-meiyo</td>\n",
       "      <td>section-1</td>\n",
       "      <td>healthy</td>\n",
       "      <td>27</td>\n",
       "    </tr>\n",
       "  </tbody>\n",
       "</table>\n",
       "</div>"
      ],
      "text/plain": [
       "  deviceType           timestamp country   city                   area  \\\n",
       "0        CNC 2021-04-30 21:00:00   japan  tokyo  keiyō-industrial-zone   \n",
       "1        CNC 2021-04-30 21:10:00   japan  tokyo  keiyō-industrial-zone   \n",
       "2        CNC 2021-04-30 21:20:00   japan  tokyo  keiyō-industrial-zone   \n",
       "3        CNC 2021-04-30 21:30:00   japan  tokyo  keiyō-industrial-zone   \n",
       "4        CNC 2021-04-30 21:40:00   japan  tokyo  keiyō-industrial-zone   \n",
       "\n",
       "                 factory    section   status  temp  \n",
       "0  daikibo-factory-meiyo  section-1  healthy    27  \n",
       "1  daikibo-factory-meiyo  section-1  healthy    27  \n",
       "2  daikibo-factory-meiyo  section-1  healthy    26  \n",
       "3  daikibo-factory-meiyo  section-1  healthy    24  \n",
       "4  daikibo-factory-meiyo  section-1  healthy    27  "
      ]
     },
     "execution_count": 8,
     "metadata": {},
     "output_type": "execute_result"
    }
   ],
   "source": [
    "daikibo_telemetry_data.head()"
   ]
  },
  {
   "cell_type": "code",
   "execution_count": 9,
   "id": "46daaeaa",
   "metadata": {},
   "outputs": [
    {
     "data": {
      "text/html": [
       "<div>\n",
       "<style scoped>\n",
       "    .dataframe tbody tr th:only-of-type {\n",
       "        vertical-align: middle;\n",
       "    }\n",
       "\n",
       "    .dataframe tbody tr th {\n",
       "        vertical-align: top;\n",
       "    }\n",
       "\n",
       "    .dataframe thead th {\n",
       "        text-align: right;\n",
       "    }\n",
       "</style>\n",
       "<table border=\"1\" class=\"dataframe\">\n",
       "  <thead>\n",
       "    <tr style=\"text-align: right;\">\n",
       "      <th></th>\n",
       "      <th>deviceType</th>\n",
       "      <th>timestamp</th>\n",
       "      <th>country</th>\n",
       "      <th>city</th>\n",
       "      <th>area</th>\n",
       "      <th>factory</th>\n",
       "      <th>section</th>\n",
       "      <th>status</th>\n",
       "      <th>temp</th>\n",
       "      <th>Year</th>\n",
       "      <th>month</th>\n",
       "      <th>day</th>\n",
       "      <th>time</th>\n",
       "    </tr>\n",
       "  </thead>\n",
       "  <tbody>\n",
       "    <tr>\n",
       "      <th>0</th>\n",
       "      <td>CNC</td>\n",
       "      <td>2021-04-30 21:00:00</td>\n",
       "      <td>japan</td>\n",
       "      <td>tokyo</td>\n",
       "      <td>keiyō-industrial-zone</td>\n",
       "      <td>daikibo-factory-meiyo</td>\n",
       "      <td>section-1</td>\n",
       "      <td>healthy</td>\n",
       "      <td>27</td>\n",
       "      <td>2021</td>\n",
       "      <td>April</td>\n",
       "      <td>30</td>\n",
       "      <td>21:00:00</td>\n",
       "    </tr>\n",
       "    <tr>\n",
       "      <th>1</th>\n",
       "      <td>CNC</td>\n",
       "      <td>2021-04-30 21:10:00</td>\n",
       "      <td>japan</td>\n",
       "      <td>tokyo</td>\n",
       "      <td>keiyō-industrial-zone</td>\n",
       "      <td>daikibo-factory-meiyo</td>\n",
       "      <td>section-1</td>\n",
       "      <td>healthy</td>\n",
       "      <td>27</td>\n",
       "      <td>2021</td>\n",
       "      <td>April</td>\n",
       "      <td>30</td>\n",
       "      <td>21:10:00</td>\n",
       "    </tr>\n",
       "    <tr>\n",
       "      <th>2</th>\n",
       "      <td>CNC</td>\n",
       "      <td>2021-04-30 21:20:00</td>\n",
       "      <td>japan</td>\n",
       "      <td>tokyo</td>\n",
       "      <td>keiyō-industrial-zone</td>\n",
       "      <td>daikibo-factory-meiyo</td>\n",
       "      <td>section-1</td>\n",
       "      <td>healthy</td>\n",
       "      <td>26</td>\n",
       "      <td>2021</td>\n",
       "      <td>April</td>\n",
       "      <td>30</td>\n",
       "      <td>21:20:00</td>\n",
       "    </tr>\n",
       "    <tr>\n",
       "      <th>3</th>\n",
       "      <td>CNC</td>\n",
       "      <td>2021-04-30 21:30:00</td>\n",
       "      <td>japan</td>\n",
       "      <td>tokyo</td>\n",
       "      <td>keiyō-industrial-zone</td>\n",
       "      <td>daikibo-factory-meiyo</td>\n",
       "      <td>section-1</td>\n",
       "      <td>healthy</td>\n",
       "      <td>24</td>\n",
       "      <td>2021</td>\n",
       "      <td>April</td>\n",
       "      <td>30</td>\n",
       "      <td>21:30:00</td>\n",
       "    </tr>\n",
       "    <tr>\n",
       "      <th>4</th>\n",
       "      <td>CNC</td>\n",
       "      <td>2021-04-30 21:40:00</td>\n",
       "      <td>japan</td>\n",
       "      <td>tokyo</td>\n",
       "      <td>keiyō-industrial-zone</td>\n",
       "      <td>daikibo-factory-meiyo</td>\n",
       "      <td>section-1</td>\n",
       "      <td>healthy</td>\n",
       "      <td>27</td>\n",
       "      <td>2021</td>\n",
       "      <td>April</td>\n",
       "      <td>30</td>\n",
       "      <td>21:40:00</td>\n",
       "    </tr>\n",
       "  </tbody>\n",
       "</table>\n",
       "</div>"
      ],
      "text/plain": [
       "  deviceType           timestamp country   city                   area  \\\n",
       "0        CNC 2021-04-30 21:00:00   japan  tokyo  keiyō-industrial-zone   \n",
       "1        CNC 2021-04-30 21:10:00   japan  tokyo  keiyō-industrial-zone   \n",
       "2        CNC 2021-04-30 21:20:00   japan  tokyo  keiyō-industrial-zone   \n",
       "3        CNC 2021-04-30 21:30:00   japan  tokyo  keiyō-industrial-zone   \n",
       "4        CNC 2021-04-30 21:40:00   japan  tokyo  keiyō-industrial-zone   \n",
       "\n",
       "                 factory    section   status  temp  Year  month  day      time  \n",
       "0  daikibo-factory-meiyo  section-1  healthy    27  2021  April   30  21:00:00  \n",
       "1  daikibo-factory-meiyo  section-1  healthy    27  2021  April   30  21:10:00  \n",
       "2  daikibo-factory-meiyo  section-1  healthy    26  2021  April   30  21:20:00  \n",
       "3  daikibo-factory-meiyo  section-1  healthy    24  2021  April   30  21:30:00  \n",
       "4  daikibo-factory-meiyo  section-1  healthy    27  2021  April   30  21:40:00  "
      ]
     },
     "execution_count": 9,
     "metadata": {},
     "output_type": "execute_result"
    }
   ],
   "source": [
    "daikibo_telemetry_data['Year'] = daikibo_telemetry_data.timestamp.dt.year\n",
    "daikibo_telemetry_data['month'] = daikibo_telemetry_data.timestamp.dt.month_name()\n",
    "daikibo_telemetry_data['day'] = daikibo_telemetry_data.timestamp.dt.day\n",
    "daikibo_telemetry_data['time'] = daikibo_telemetry_data.timestamp.dt.time\n",
    "\n",
    "daikibo_telemetry_data.head()"
   ]
  },
  {
   "cell_type": "code",
   "execution_count": 10,
   "id": "ade9d483",
   "metadata": {},
   "outputs": [
    {
     "data": {
      "text/html": [
       "<div>\n",
       "<style scoped>\n",
       "    .dataframe tbody tr th:only-of-type {\n",
       "        vertical-align: middle;\n",
       "    }\n",
       "\n",
       "    .dataframe tbody tr th {\n",
       "        vertical-align: top;\n",
       "    }\n",
       "\n",
       "    .dataframe thead th {\n",
       "        text-align: right;\n",
       "    }\n",
       "</style>\n",
       "<table border=\"1\" class=\"dataframe\">\n",
       "  <thead>\n",
       "    <tr style=\"text-align: right;\">\n",
       "      <th></th>\n",
       "      <th>deviceType</th>\n",
       "      <th>timestamp</th>\n",
       "      <th>country</th>\n",
       "      <th>city</th>\n",
       "      <th>area</th>\n",
       "      <th>factory</th>\n",
       "      <th>section</th>\n",
       "      <th>status</th>\n",
       "      <th>temp</th>\n",
       "      <th>Year</th>\n",
       "      <th>month</th>\n",
       "      <th>day</th>\n",
       "      <th>time</th>\n",
       "    </tr>\n",
       "  </thead>\n",
       "  <tbody>\n",
       "    <tr>\n",
       "      <th>0</th>\n",
       "      <td>CNC</td>\n",
       "      <td>2021-04-30 21:00:00</td>\n",
       "      <td>japan</td>\n",
       "      <td>tokyo</td>\n",
       "      <td>keiyō</td>\n",
       "      <td>meiyo</td>\n",
       "      <td>1</td>\n",
       "      <td>healthy</td>\n",
       "      <td>27</td>\n",
       "      <td>2021</td>\n",
       "      <td>April</td>\n",
       "      <td>30</td>\n",
       "      <td>21:00:00</td>\n",
       "    </tr>\n",
       "    <tr>\n",
       "      <th>1</th>\n",
       "      <td>CNC</td>\n",
       "      <td>2021-04-30 21:10:00</td>\n",
       "      <td>japan</td>\n",
       "      <td>tokyo</td>\n",
       "      <td>keiyō</td>\n",
       "      <td>meiyo</td>\n",
       "      <td>1</td>\n",
       "      <td>healthy</td>\n",
       "      <td>27</td>\n",
       "      <td>2021</td>\n",
       "      <td>April</td>\n",
       "      <td>30</td>\n",
       "      <td>21:10:00</td>\n",
       "    </tr>\n",
       "    <tr>\n",
       "      <th>2</th>\n",
       "      <td>CNC</td>\n",
       "      <td>2021-04-30 21:20:00</td>\n",
       "      <td>japan</td>\n",
       "      <td>tokyo</td>\n",
       "      <td>keiyō</td>\n",
       "      <td>meiyo</td>\n",
       "      <td>1</td>\n",
       "      <td>healthy</td>\n",
       "      <td>26</td>\n",
       "      <td>2021</td>\n",
       "      <td>April</td>\n",
       "      <td>30</td>\n",
       "      <td>21:20:00</td>\n",
       "    </tr>\n",
       "    <tr>\n",
       "      <th>3</th>\n",
       "      <td>CNC</td>\n",
       "      <td>2021-04-30 21:30:00</td>\n",
       "      <td>japan</td>\n",
       "      <td>tokyo</td>\n",
       "      <td>keiyō</td>\n",
       "      <td>meiyo</td>\n",
       "      <td>1</td>\n",
       "      <td>healthy</td>\n",
       "      <td>24</td>\n",
       "      <td>2021</td>\n",
       "      <td>April</td>\n",
       "      <td>30</td>\n",
       "      <td>21:30:00</td>\n",
       "    </tr>\n",
       "    <tr>\n",
       "      <th>4</th>\n",
       "      <td>CNC</td>\n",
       "      <td>2021-04-30 21:40:00</td>\n",
       "      <td>japan</td>\n",
       "      <td>tokyo</td>\n",
       "      <td>keiyō</td>\n",
       "      <td>meiyo</td>\n",
       "      <td>1</td>\n",
       "      <td>healthy</td>\n",
       "      <td>27</td>\n",
       "      <td>2021</td>\n",
       "      <td>April</td>\n",
       "      <td>30</td>\n",
       "      <td>21:40:00</td>\n",
       "    </tr>\n",
       "  </tbody>\n",
       "</table>\n",
       "</div>"
      ],
      "text/plain": [
       "  deviceType           timestamp country   city   area factory section  \\\n",
       "0        CNC 2021-04-30 21:00:00   japan  tokyo  keiyō   meiyo       1   \n",
       "1        CNC 2021-04-30 21:10:00   japan  tokyo  keiyō   meiyo       1   \n",
       "2        CNC 2021-04-30 21:20:00   japan  tokyo  keiyō   meiyo       1   \n",
       "3        CNC 2021-04-30 21:30:00   japan  tokyo  keiyō   meiyo       1   \n",
       "4        CNC 2021-04-30 21:40:00   japan  tokyo  keiyō   meiyo       1   \n",
       "\n",
       "    status  temp  Year  month  day      time  \n",
       "0  healthy    27  2021  April   30  21:00:00  \n",
       "1  healthy    27  2021  April   30  21:10:00  \n",
       "2  healthy    26  2021  April   30  21:20:00  \n",
       "3  healthy    24  2021  April   30  21:30:00  \n",
       "4  healthy    27  2021  April   30  21:40:00  "
      ]
     },
     "execution_count": 10,
     "metadata": {},
     "output_type": "execute_result"
    }
   ],
   "source": [
    "daikibo_telemetry_data['area'] =[x[0] for x in daikibo_telemetry_data.area.str.split('-')]\n",
    "daikibo_telemetry_data['factory'] =[x[-1] for x in daikibo_telemetry_data.factory.str.split('-')]\n",
    "daikibo_telemetry_data['section'] =[x[1] for x in daikibo_telemetry_data.section.str.split('-')]\n",
    "daikibo_telemetry_data.head()"
   ]
  },
  {
   "cell_type": "code",
   "execution_count": 11,
   "id": "0268e511",
   "metadata": {},
   "outputs": [
    {
     "name": "stdout",
     "output_type": "stream",
     "text": [
      "<class 'pandas.core.frame.DataFrame'>\n",
      "RangeIndex: 160704 entries, 0 to 160703\n",
      "Data columns (total 13 columns):\n",
      " #   Column      Non-Null Count   Dtype         \n",
      "---  ------      --------------   -----         \n",
      " 0   deviceType  160704 non-null  object        \n",
      " 1   timestamp   160704 non-null  datetime64[ns]\n",
      " 2   country     160704 non-null  object        \n",
      " 3   city        160704 non-null  object        \n",
      " 4   area        160704 non-null  object        \n",
      " 5   factory     160704 non-null  object        \n",
      " 6   section     160704 non-null  object        \n",
      " 7   status      160704 non-null  object        \n",
      " 8   temp        160704 non-null  int64         \n",
      " 9   Year        160704 non-null  int64         \n",
      " 10  month       160704 non-null  object        \n",
      " 11  day         160704 non-null  int64         \n",
      " 12  time        160704 non-null  object        \n",
      "dtypes: datetime64[ns](1), int64(3), object(9)\n",
      "memory usage: 15.9+ MB\n"
     ]
    }
   ],
   "source": [
    "# checking basic info about the dataset\n",
    "dk_td = daikibo_telemetry_data \n",
    "dk_td.info()"
   ]
  },
  {
   "cell_type": "code",
   "execution_count": 12,
   "id": "096ff38d",
   "metadata": {},
   "outputs": [
    {
     "data": {
      "text/plain": [
       "2021    160704\n",
       "Name: Year, dtype: int64"
      ]
     },
     "execution_count": 12,
     "metadata": {},
     "output_type": "execute_result"
    }
   ],
   "source": [
    "# how many years are in the data\n",
    "dk_td.Year.value_counts()"
   ]
  },
  {
   "cell_type": "code",
   "execution_count": 13,
   "id": "3d759c9f",
   "metadata": {},
   "outputs": [
    {
     "data": {
      "text/plain": [
       "May      158472\n",
       "April      2232\n",
       "Name: month, dtype: int64"
      ]
     },
     "execution_count": 13,
     "metadata": {},
     "output_type": "execute_result"
    }
   ],
   "source": [
    "#how many months are in our data\n",
    "dk_td.month.value_counts()"
   ]
  },
  {
   "cell_type": "code",
   "execution_count": 14,
   "id": "f6754066",
   "metadata": {},
   "outputs": [],
   "source": [
    "# changing categorical status data to numeric\n",
    "dk_td['unhealthy'] = [10 if x == 'unhealthy' else 0 for x in dk_td.status]"
   ]
  },
  {
   "cell_type": "code",
   "execution_count": 15,
   "id": "03e21669",
   "metadata": {},
   "outputs": [
    {
     "data": {
      "text/html": [
       "<div>\n",
       "<style scoped>\n",
       "    .dataframe tbody tr th:only-of-type {\n",
       "        vertical-align: middle;\n",
       "    }\n",
       "\n",
       "    .dataframe tbody tr th {\n",
       "        vertical-align: top;\n",
       "    }\n",
       "\n",
       "    .dataframe thead th {\n",
       "        text-align: right;\n",
       "    }\n",
       "</style>\n",
       "<table border=\"1\" class=\"dataframe\">\n",
       "  <thead>\n",
       "    <tr style=\"text-align: right;\">\n",
       "      <th></th>\n",
       "      <th>deviceType</th>\n",
       "      <th>timestamp</th>\n",
       "      <th>country</th>\n",
       "      <th>city</th>\n",
       "      <th>area</th>\n",
       "      <th>factory</th>\n",
       "      <th>section</th>\n",
       "      <th>status</th>\n",
       "      <th>temp</th>\n",
       "      <th>Year</th>\n",
       "      <th>month</th>\n",
       "      <th>day</th>\n",
       "      <th>time</th>\n",
       "      <th>unhealthy</th>\n",
       "    </tr>\n",
       "  </thead>\n",
       "  <tbody>\n",
       "    <tr>\n",
       "      <th>5353</th>\n",
       "      <td>LaserCutter</td>\n",
       "      <td>2021-05-02 01:10:00</td>\n",
       "      <td>japan</td>\n",
       "      <td>tokyo</td>\n",
       "      <td>keiyō</td>\n",
       "      <td>meiyo</td>\n",
       "      <td>3</td>\n",
       "      <td>unhealthy</td>\n",
       "      <td>23</td>\n",
       "      <td>2021</td>\n",
       "      <td>May</td>\n",
       "      <td>2</td>\n",
       "      <td>01:10:00</td>\n",
       "      <td>10</td>\n",
       "    </tr>\n",
       "    <tr>\n",
       "      <th>5354</th>\n",
       "      <td>LaserCutter</td>\n",
       "      <td>2021-05-02 01:20:00</td>\n",
       "      <td>japan</td>\n",
       "      <td>tokyo</td>\n",
       "      <td>keiyō</td>\n",
       "      <td>meiyo</td>\n",
       "      <td>3</td>\n",
       "      <td>unhealthy</td>\n",
       "      <td>27</td>\n",
       "      <td>2021</td>\n",
       "      <td>May</td>\n",
       "      <td>2</td>\n",
       "      <td>01:20:00</td>\n",
       "      <td>10</td>\n",
       "    </tr>\n",
       "    <tr>\n",
       "      <th>5355</th>\n",
       "      <td>LaserCutter</td>\n",
       "      <td>2021-05-02 01:30:00</td>\n",
       "      <td>japan</td>\n",
       "      <td>tokyo</td>\n",
       "      <td>keiyō</td>\n",
       "      <td>meiyo</td>\n",
       "      <td>3</td>\n",
       "      <td>unhealthy</td>\n",
       "      <td>25</td>\n",
       "      <td>2021</td>\n",
       "      <td>May</td>\n",
       "      <td>2</td>\n",
       "      <td>01:30:00</td>\n",
       "      <td>10</td>\n",
       "    </tr>\n",
       "    <tr>\n",
       "      <th>7920</th>\n",
       "      <td>LaserCutter</td>\n",
       "      <td>2021-05-01 21:00:00</td>\n",
       "      <td>japan</td>\n",
       "      <td>tokyo</td>\n",
       "      <td>keiyō</td>\n",
       "      <td>meiyo</td>\n",
       "      <td>3</td>\n",
       "      <td>unhealthy</td>\n",
       "      <td>26</td>\n",
       "      <td>2021</td>\n",
       "      <td>May</td>\n",
       "      <td>1</td>\n",
       "      <td>21:00:00</td>\n",
       "      <td>10</td>\n",
       "    </tr>\n",
       "    <tr>\n",
       "      <th>33987</th>\n",
       "      <td>HeavyDutyDrill</td>\n",
       "      <td>2021-05-02 21:30:00</td>\n",
       "      <td>japan</td>\n",
       "      <td>tokyo</td>\n",
       "      <td>keiyō</td>\n",
       "      <td>meiyo</td>\n",
       "      <td>1</td>\n",
       "      <td>unhealthy</td>\n",
       "      <td>26</td>\n",
       "      <td>2021</td>\n",
       "      <td>May</td>\n",
       "      <td>2</td>\n",
       "      <td>21:30:00</td>\n",
       "      <td>10</td>\n",
       "    </tr>\n",
       "  </tbody>\n",
       "</table>\n",
       "</div>"
      ],
      "text/plain": [
       "           deviceType           timestamp country   city   area factory  \\\n",
       "5353      LaserCutter 2021-05-02 01:10:00   japan  tokyo  keiyō   meiyo   \n",
       "5354      LaserCutter 2021-05-02 01:20:00   japan  tokyo  keiyō   meiyo   \n",
       "5355      LaserCutter 2021-05-02 01:30:00   japan  tokyo  keiyō   meiyo   \n",
       "7920      LaserCutter 2021-05-01 21:00:00   japan  tokyo  keiyō   meiyo   \n",
       "33987  HeavyDutyDrill 2021-05-02 21:30:00   japan  tokyo  keiyō   meiyo   \n",
       "\n",
       "      section     status  temp  Year month  day      time  unhealthy  \n",
       "5353        3  unhealthy    23  2021   May    2  01:10:00         10  \n",
       "5354        3  unhealthy    27  2021   May    2  01:20:00         10  \n",
       "5355        3  unhealthy    25  2021   May    2  01:30:00         10  \n",
       "7920        3  unhealthy    26  2021   May    1  21:00:00         10  \n",
       "33987       1  unhealthy    26  2021   May    2  21:30:00         10  "
      ]
     },
     "execution_count": 15,
     "metadata": {},
     "output_type": "execute_result"
    }
   ],
   "source": [
    "unhealthy = dk_td[~(dk_td['status']=='healthy')]\n",
    "unhealthy.head()"
   ]
  },
  {
   "cell_type": "markdown",
   "id": "27b68517",
   "metadata": {},
   "source": [
    "### How many unhealthy statuses in the month of April compared to the month of May?"
   ]
  },
  {
   "cell_type": "code",
   "execution_count": 16,
   "id": "bfc63a7c",
   "metadata": {},
   "outputs": [
    {
     "data": {
      "text/plain": [
       "unhealthy    103\n",
       "Name: status, dtype: int64"
      ]
     },
     "execution_count": 16,
     "metadata": {},
     "output_type": "execute_result"
    }
   ],
   "source": [
    "unhealthy[unhealthy['month']=='May']['status'].value_counts()"
   ]
  },
  {
   "cell_type": "markdown",
   "id": "9320812b",
   "metadata": {},
   "source": [
    "# 0 unhealthy status in April\n",
    "# 103 unhealthy statuses in May"
   ]
  },
  {
   "cell_type": "markdown",
   "id": "2eb35127",
   "metadata": {},
   "source": [
    "### Daikibo industries can investigate what caused the increase in the number of unhealthy statuses from 0 to 103. Was there a change in maintenance strategies or maintenance personnel or maybe new equipment was installed."
   ]
  },
  {
   "cell_type": "code",
   "execution_count": null,
   "id": "c956e61d",
   "metadata": {},
   "outputs": [],
   "source": []
  },
  {
   "cell_type": "code",
   "execution_count": null,
   "id": "b854ccf0",
   "metadata": {},
   "outputs": [],
   "source": []
  },
  {
   "cell_type": "markdown",
   "id": "7493bca2",
   "metadata": {},
   "source": [
    "### Which factory had the most unhealthy statuses ?"
   ]
  },
  {
   "cell_type": "code",
   "execution_count": 17,
   "id": "eab602fd",
   "metadata": {},
   "outputs": [],
   "source": [
    "sns.set_style('white')"
   ]
  },
  {
   "cell_type": "code",
   "execution_count": 51,
   "id": "993a30a6",
   "metadata": {},
   "outputs": [
    {
     "data": {
      "image/png": "[encoded data removed]",
      "text/plain": [
       "<Figure size 1080x720 with 1 Axes>"
      ]
     },
     "metadata": {},
     "output_type": "display_data"
    }
   ],
   "source": [
    "g= sns.countplot(x='factory', data=unhealthy, color=\"orange\", order=['seiko','shenzhen','meiyo','berlin'], )\n",
    "g.set_title('Unhealthy Statuses by Factory', fontdict= {'fontsize':14, 'horizontalalignment': 'center'})\n",
    "g.set_ylabel('No of Unhealthy Statuses')\n",
    "sns.despine()\n",
    "plt.show()"
   ]
  },
  {
   "cell_type": "markdown",
   "id": "4b64bd25",
   "metadata": {},
   "source": [
    "### What days of the month did these unhealthy statuses occur?"
   ]
  },
  {
   "cell_type": "code",
   "execution_count": 48,
   "id": "571cb722",
   "metadata": {},
   "outputs": [
    {
     "data": {
      "image/png": "[encoded data removed]",
      "text/plain": [
       "<Figure size 1080x720 with 1 Axes>"
      ]
     },
     "metadata": {},
     "output_type": "display_data"
    }
   ],
   "source": [
    "plt.rcParams['figure.figsize'] =(15,10)\n",
    "g=sns.swarmplot(y='day', x='status', data=unhealthy, hue='factory', size=10, )\n",
    "sns.despine()\n",
    "g.set_xlabel('Unhealthy Statuses')\n",
    "g.set_ylabel('Day')\n",
    "g.set_title('Unhealthy statuses by day', fontsize=16)\n",
    "plt.show()"
   ]
  },
  {
   "cell_type": "code",
   "execution_count": null,
   "id": "15e0a1be",
   "metadata": {},
   "outputs": [],
   "source": []
  },
  {
   "cell_type": "code",
   "execution_count": null,
   "id": "180b290b",
   "metadata": {},
   "outputs": [],
   "source": []
  },
  {
   "cell_type": "markdown",
   "id": "f88b99f8",
   "metadata": {},
   "source": [
    "# Unhealthy status by machine type"
   ]
  },
  {
   "cell_type": "markdown",
   "id": "f1f2d74e",
   "metadata": {},
   "source": [
    "### Which machine had the most unhealthy statuses?"
   ]
  },
  {
   "cell_type": "code",
   "execution_count": 50,
   "id": "af767bbe",
   "metadata": {},
   "outputs": [
    {
     "data": {
      "image/png": "[encoded data removed]",
      "text/plain": [
       "<Figure size 1080x720 with 1 Axes>"
      ]
     },
     "metadata": {},
     "output_type": "display_data"
    }
   ],
   "source": [
    "g=sns.countplot(x='deviceType', data=unhealthy, hue='factory')\n",
    "sns.despine(left=True)\n",
    "plt.tick_params(labelleft=False, left=False)\n",
    "g.set(ylabel=None)\n",
    "g.set_title('Number of unhealthy statuses on each machine in different factories.', fontsize=16)\n",
    "for container in g.containers:\n",
    "    g.bar_label(container, fontsize=14)\n",
    "plt.show()"
   ]
  },
  {
   "cell_type": "markdown",
   "id": "bc56c022",
   "metadata": {},
   "source": [
    "### Seiko factory had the highest number of unhealthy statuses(48), however, it can be observed that the unhealthy statys is only happening on one machine which is the Laser Welder. It can also be observed that shenzen with the second highest number of unhealthy statuses had more machines that experienced unhealthy statuses."
   ]
  },
  {
   "cell_type": "code",
   "execution_count": null,
   "id": "dde8b586",
   "metadata": {},
   "outputs": [],
   "source": []
  },
  {
   "cell_type": "code",
   "execution_count": null,
   "id": "0871dc43",
   "metadata": {},
   "outputs": [],
   "source": []
  }
 ],
 "metadata": {
  "kernelspec": {
   "display_name": "Python 3 (ipykernel)",
   "language": "python",
   "name": "python3"
  },
  "language_info": {
   "codemirror_mode": {
    "name": "ipython",
    "version": 3
   },
   "file_extension": ".py",
   "mimetype": "text/x-python",
   "name": "python",
   "nbconvert_exporter": "python",
   "pygments_lexer": "ipython3",
   "version": "3.9.12"
  }
 },
 "nbformat": 4,
 "nbformat_minor": 5
}
